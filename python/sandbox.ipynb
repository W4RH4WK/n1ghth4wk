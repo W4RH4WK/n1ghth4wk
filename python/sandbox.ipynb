{
 "cells": [
  {
   "cell_type": "code",
   "execution_count": 48,
   "metadata": {},
   "outputs": [
    {
     "name": "stdout",
     "output_type": "stream",
     "text": [
      "The autoreload extension is already loaded. To reload it, use:\n",
      "  %reload_ext autoreload\n"
     ]
    }
   ],
   "source": [
    "%load_ext autoreload\n",
    "%autoreload 2\n",
    "\n",
    "import builtins\n",
    "from IPython.lib import deepreload\n",
    "builtins.reload = deepreload.reload\n",
    "\n",
    "#from importlib import reload\n",
    "# from IPython.lib.deepreload import reload as dreload\n",
    "import n1ghth4wk as n1\n",
    "\n",
    "n1.setSeed(1)"
   ]
  },
  {
   "cell_type": "code",
   "execution_count": 51,
   "metadata": {},
   "outputs": [
    {
     "name": "stdout",
     "output_type": "stream",
     "text": [
      "  0 Hits | NoGlitch       [2, 1, 4, 1, 4]\n",
      "bob\n",
      "------------------------ Attributes\n",
      " S  A  L  W  C  E\n",
      " 2  2  2  2  2  1 (1)\n",
      "------------------------ Skills\n",
      "           athletics:  3\n"
     ]
    }
   ],
   "source": [
    "bob = n1.Character('bob')\n",
    "n1.addDefaultSkillsToCharacter(bob)\n",
    "n1.addSkillToCharacter(bob, n1.athletics, 3)\n",
    "\n",
    "n1.checkThreshold(bob.athletics(), 4)\n",
    "\n",
    "bob.info()"
   ]
  }
 ],
 "metadata": {
  "kernelspec": {
   "display_name": "Python 3.10.6 64-bit",
   "language": "python",
   "name": "python3"
  },
  "language_info": {
   "codemirror_mode": {
    "name": "ipython",
    "version": 3
   },
   "file_extension": ".py",
   "mimetype": "text/x-python",
   "name": "python",
   "nbconvert_exporter": "python",
   "pygments_lexer": "ipython3",
   "version": "3.10.6"
  },
  "orig_nbformat": 4,
  "vscode": {
   "interpreter": {
    "hash": "e81bc391c94586cce98ffb269226a5cd01082103f60e25ae371793f3618dff90"
   }
  }
 },
 "nbformat": 4,
 "nbformat_minor": 2
}
